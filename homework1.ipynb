{
 "cells": [
  {
   "cell_type": "code",
   "execution_count": 1,
   "id": "226ced20",
   "metadata": {},
   "outputs": [
    {
     "name": "stdout",
     "output_type": "stream",
     "text": [
      " 0:2:46:40\n"
     ]
    }
   ],
   "source": [
    "days = 10000 // 86400\n",
    "h = 10000//3600\n",
    "min = 10000 % 3600 // 60\n",
    "sec = 10000 % 60\n",
    "print(f\" {days}:{h}:{min}:{sec}\")\n"
   ]
  },
  {
   "cell_type": "code",
   "execution_count": 2,
   "id": "0ea186ae",
   "metadata": {},
   "outputs": [
    {
     "name": "stdout",
     "output_type": "stream",
     "text": [
      "Чтобы закончить вычисления введите STOP\n",
      "Введите знак (+;-;/; *):/\n",
      "Введите число 1: 1\n",
      "Введите число 2: 0\n"
     ]
    },
    {
     "ename": "ZeroDivisionError",
     "evalue": "float division by zero",
     "output_type": "error",
     "traceback": [
      "\u001b[0;31m---------------------------------------------------------------------------\u001b[0m",
      "\u001b[0;31mZeroDivisionError\u001b[0m                         Traceback (most recent call last)",
      "Cell \u001b[0;32mIn [2], line 16\u001b[0m\n\u001b[1;32m     14\u001b[0m     \u001b[38;5;28mprint\u001b[39m(\u001b[38;5;124m\"\u001b[39m\u001b[38;5;124mИтог: \u001b[39m\u001b[38;5;124m\"\u001b[39m,a\u001b[38;5;241m*\u001b[39mb)\n\u001b[1;32m     15\u001b[0m \u001b[38;5;28;01melif\u001b[39;00m sign \u001b[38;5;241m==\u001b[39m \u001b[38;5;124m\"\u001b[39m\u001b[38;5;124m/\u001b[39m\u001b[38;5;124m\"\u001b[39m:\n\u001b[0;32m---> 16\u001b[0m     \u001b[38;5;28mprint\u001b[39m(\u001b[38;5;124m\"\u001b[39m\u001b[38;5;124mИтог: \u001b[39m\u001b[38;5;124m\"\u001b[39m, a\u001b[38;5;241m/\u001b[39mb)\n\u001b[1;32m     17\u001b[0m \u001b[38;5;28;01melse\u001b[39;00m:\n\u001b[1;32m     18\u001b[0m     \u001b[38;5;28mprint\u001b[39m(\u001b[38;5;124m\"\u001b[39m\u001b[38;5;124mВы ввели неверный знак!\u001b[39m\u001b[38;5;124m\"\u001b[39m)\n",
      "\u001b[0;31mZeroDivisionError\u001b[0m: float division by zero"
     ]
    }
   ],
   "source": [
    "print(\"Чтобы закончить вычисления введите STOP\")\n",
    "while True:\n",
    "    sign = input('Введите знак (+;-;/; *):')\n",
    "    if sign.lower() == \"stop\":\n",
    "        break\n",
    "    elif sign in '+-/*':\n",
    "        a = float(input(\"Введите число 1: \"))\n",
    "        b = float(input(\"Введите число 2: \"))\n",
    "        if sign == \"+\":\n",
    "            print(\"Итог: \", a+b)\n",
    "        elif sign == \"-\":\n",
    "            print(\"Итог: \", a-b)\n",
    "        elif sign == \"*\":\n",
    "            print(\"Итог: \",a*b)\n",
    "        elif sign == \"/\":\n",
    "            print(\"Итог: \", a/b)\n",
    "        else:\n",
    "            print(\"Вы ввели неверный знак!\")\n",
    "            "
   ]
  },
  {
   "cell_type": "code",
   "execution_count": 3,
   "id": "9e5c0ca4",
   "metadata": {},
   "outputs": [
    {
     "name": "stdout",
     "output_type": "stream",
     "text": [
      "доллар\n",
      "рубль\n",
      "доллар$рубль\n"
     ]
    }
   ],
   "source": [
    "print(str(input()) + \"$\" + str(input()))"
   ]
  },
  {
   "cell_type": "code",
   "execution_count": 4,
   "id": "c6a13673",
   "metadata": {},
   "outputs": [
    {
     "name": "stdout",
     "output_type": "stream",
     "text": [
      "доллар\n",
      "рубль\n",
      "доллар$рубль\n"
     ]
    }
   ],
   "source": [
    "print(str(input()), str(input()), sep = \"$\")\n"
   ]
  },
  {
   "cell_type": "code",
   "execution_count": 5,
   "id": "326efede",
   "metadata": {},
   "outputs": [
    {
     "name": "stdout",
     "output_type": "stream",
     "text": [
      "Введите имя:Катя\n",
      "Введите возраст:22\n",
      "С днем рождения, Катя\n",
      "С днем рождения, Катя\n",
      "С днем рождения, Катя\n",
      "С днем рождения, Катя\n",
      "С днем рождения, Катя\n",
      "С днем рождения, Катя\n",
      "С днем рождения, Катя\n",
      "С днем рождения, Катя\n",
      "С днем рождения, Катя\n",
      "С днем рождения, Катя\n",
      "С днем рождения, Катя\n",
      "С днем рождения, Катя\n",
      "С днем рождения, Катя\n",
      "С днем рождения, Катя\n",
      "С днем рождения, Катя\n",
      "С днем рождения, Катя\n",
      "С днем рождения, Катя\n",
      "С днем рождения, Катя\n",
      "С днем рождения, Катя\n",
      "С днем рождения, Катя\n",
      "С днем рождения, Катя\n",
      "С днем рождения, Катя\n"
     ]
    }
   ],
   "source": [
    "name = input(\"Введите имя:\")\n",
    "age = int(input(\"Введите возраст:\"))\n",
    "for i in range(age):\n",
    "    print(f\"С днем рождения, {name}\")"
   ]
  },
  {
   "cell_type": "code",
   "execution_count": null,
   "id": "bc062598",
   "metadata": {},
   "outputs": [],
   "source": []
  }
 ],
 "metadata": {
  "kernelspec": {
   "display_name": "Python 3 (ipykernel)",
   "language": "python",
   "name": "python3"
  },
  "language_info": {
   "codemirror_mode": {
    "name": "ipython",
    "version": 3
   },
   "file_extension": ".py",
   "mimetype": "text/x-python",
   "name": "python",
   "nbconvert_exporter": "python",
   "pygments_lexer": "ipython3",
   "version": "3.10.8"
  }
 },
 "nbformat": 4,
 "nbformat_minor": 5
}
