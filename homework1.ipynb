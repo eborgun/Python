{
 "cells": [
  {
   "cell_type": "code",
   "execution_count": 6,
   "id": "226ced20",
   "metadata": {},
   "outputs": [
    {
     "name": "stdout",
     "output_type": "stream",
     "text": [
      " 0:2:46:40\n"
     ]
    }
   ],
   "source": [
    "days = 10000 // 86400\n",
    "h = 10000//3600\n",
    "min = 10000 % 3600 // 60\n",
    "sec = 10000 % 60\n",
    "print(f\" {days}:{h}:{min}:{sec}\")\n"
   ]
  },
  {
   "cell_type": "code",
   "execution_count": null,
   "id": "0ea186ae",
   "metadata": {},
   "outputs": [
    {
     "name": "stdout",
     "output_type": "stream",
     "text": [
      "Чтобы закончить вычисления введите STOP\n",
      "Введите знак (+;-;/; *):*\n",
      "Введите число 1: 2\n",
      "Введите число 2: 23.5\n",
      "Итог:  47.0\n"
     ]
    }
   ],
   "source": [
    "print(\"Чтобы закончить вычисления введите STOP\")\n",
    "while True:\n",
    "    sign = input('Введите знак (+;-;/; *):')\n",
    "    if sign.lower() == \"stop\":\n",
    "        break\n",
    "    elif sign in '+-/*':\n",
    "        a = float(input(\"Введите число 1: \"))\n",
    "        b = float(input(\"Введите число 2: \"))\n",
    "        if sign == \"+\":\n",
    "            print(\"Итог: \", a+b)\n",
    "        elif sign == \"-\":\n",
    "            print(\"Итог: \", a-b)\n",
    "        elif sign == \"*\":\n",
    "            print(\"Итог: \",a*b)\n",
    "        elif sign == \"/\":\n",
    "            print(\"Итог: \", a/b)\n",
    "        else:\n",
    "            print(\"Вы ввели неверный знак!\")\n",
    "            "
   ]
  },
  {
   "cell_type": "code",
   "execution_count": 3,
   "id": "9e5c0ca4",
   "metadata": {},
   "outputs": [
    {
     "name": "stdout",
     "output_type": "stream",
     "text": [
      "доллар\n",
      "рубль\n",
      "доллар$рубль\n"
     ]
    }
   ],
   "source": [
    "print(str(input()) + \"$\" + str(input()))"
   ]
  },
  {
   "cell_type": "code",
   "execution_count": 4,
   "id": "c6a13673",
   "metadata": {},
   "outputs": [
    {
     "name": "stdout",
     "output_type": "stream",
     "text": [
      "доллар\n",
      "рубль\n",
      "доллар$рубль\n"
     ]
    }
   ],
   "source": [
    "print(str(input()), str(input()), sep = \"$\")\n"
   ]
  },
  {
   "cell_type": "code",
   "execution_count": 5,
   "id": "326efede",
   "metadata": {},
   "outputs": [
    {
     "name": "stdout",
     "output_type": "stream",
     "text": [
      "Введите имя:Катя\n",
      "Введите возраст:22\n",
      "С днем рождения, Катя\n",
      "С днем рождения, Катя\n",
      "С днем рождения, Катя\n",
      "С днем рождения, Катя\n",
      "С днем рождения, Катя\n",
      "С днем рождения, Катя\n",
      "С днем рождения, Катя\n",
      "С днем рождения, Катя\n",
      "С днем рождения, Катя\n",
      "С днем рождения, Катя\n",
      "С днем рождения, Катя\n",
      "С днем рождения, Катя\n",
      "С днем рождения, Катя\n",
      "С днем рождения, Катя\n",
      "С днем рождения, Катя\n",
      "С днем рождения, Катя\n",
      "С днем рождения, Катя\n",
      "С днем рождения, Катя\n",
      "С днем рождения, Катя\n",
      "С днем рождения, Катя\n",
      "С днем рождения, Катя\n",
      "С днем рождения, Катя\n"
     ]
    }
   ],
   "source": [
    "name = input(\"Введите имя:\")\n",
    "age = int(input(\"Введите возраст:\"))\n",
    "for i in range(age):\n",
    "    print(f\"С днем рождения, {name}\")"
   ]
  },
  {
   "cell_type": "code",
   "execution_count": null,
   "id": "bc062598",
   "metadata": {},
   "outputs": [],
   "source": []
  }
 ],
 "metadata": {
  "kernelspec": {
   "display_name": "Python 3 (ipykernel)",
   "language": "python",
   "name": "python3"
  },
  "language_info": {
   "codemirror_mode": {
    "name": "ipython",
    "version": 3
   },
   "file_extension": ".py",
   "mimetype": "text/x-python",
   "name": "python",
   "nbconvert_exporter": "python",
   "pygments_lexer": "ipython3",
   "version": "3.10.8"
  }
 },
 "nbformat": 4,
 "nbformat_minor": 5
}
