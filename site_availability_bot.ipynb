{
 "cells": [
  {
   "cell_type": "code",
   "execution_count": null,
   "id": "3f14cf4e",
   "metadata": {},
   "outputs": [],
   "source": [
    "import telebot, requests\n",
    "\n",
    "TOKEN = '5832844072:AAHLmY23OnIv_ZMCjQn6gRRhOqCE_S4NlfQ'\n",
    "\n",
    "bot = telebot.TeleBot(TOKEN)\n",
    "\n",
    "@bot.message_handler(commands=['start'])\n",
    "def start(message):\n",
    "    name = f'{message.from_user.first_name}'\n",
    "    bot.send_message(message.chat.id, f'Привет, {name}! Отправь ссылку на сайт, чтобы узнать его доступность.\\nДисклеймер: большинство твоих любимых сайтов недоступны(((', parse_mode='html')\n",
    "\n",
    "@bot.message_handler(content_types=['text'])\n",
    "def getMessage(message):\n",
    "    url = message.text\n",
    "    try:\n",
    "        status_code = requests.get(url).status_code\n",
    "    except:\n",
    "        bot.send_message(message.from_user.id, 'Проверь свою ссылочку, дружок, где-то ошибка..')\n",
    "    else:\n",
    "        if status_code == 200:\n",
    "            bot.send_message(message.from_user.id, 'Поздравляю, этот  сайт еще не заблочили!')\n",
    "        elif status_code == 400:\n",
    "            bot.send_message(message.from_user.id, f'Код ошибки {status_code} - Bad Request')\n",
    "        elif status_code == 403:\n",
    "            bot.send_message(message.from_user.id, f'Код ошибки {status_code} - Запрещеночка')\n",
    "        elif status_code == 404:\n",
    "            bot.send_message(message.from_user.id, f'Код ошибки {status_code} - Упс, ну сам знаешь')\n",
    "        else:\n",
    "            bot.send_message(message.from_user.id, f'Сайт недоступен или к нему нельзя получить доступ. Код ошибки {status_code}')\n",
    "\n",
    "bot.polling(none_stop=True, interval=0)"
   ]
  }
 ],
 "metadata": {
  "kernelspec": {
   "display_name": "Python 3 (ipykernel)",
   "language": "python",
   "name": "python3"
  },
  "language_info": {
   "codemirror_mode": {
    "name": "ipython",
    "version": 3
   },
   "file_extension": ".py",
   "mimetype": "text/x-python",
   "name": "python",
   "nbconvert_exporter": "python",
   "pygments_lexer": "ipython3",
   "version": "3.10.8"
  }
 },
 "nbformat": 4,
 "nbformat_minor": 5
}
