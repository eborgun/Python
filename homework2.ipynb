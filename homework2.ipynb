{
 "cells": [
  {
   "cell_type": "code",
   "execution_count": 6,
   "id": "ad5d21c3",
   "metadata": {},
   "outputs": [
    {
     "name": "stdout",
     "output_type": "stream",
     "text": [
      "4\n",
      "апрель\n"
     ]
    }
   ],
   "source": [
    "#Task 1\n",
    "month = int(input())\n",
    "months = {1: \"январь\", 2: \"февраль\", 3: \"март\", 4: \"апрель\", 5: \"май\", 6: \"июнь\", \n",
    "          7: \"июль\", 8: \"август\", 9: \"сентябрь\", 10: \"откябрь\", 11: \"ноябрь\", 12: \"декабрь\"}\n",
    "print(months[month])"
   ]
  },
  {
   "cell_type": "code",
   "execution_count": 5,
   "id": "b375ba2b",
   "metadata": {},
   "outputs": [
    {
     "name": "stdout",
     "output_type": "stream",
     "text": [
      "4\n"
     ]
    }
   ],
   "source": [
    "#Task 2\n",
    "a = 600\n",
    "b = 1012\n",
    "max = 0\n",
    "for i in range(1, 600):\n",
    "    if a % i == 0 and b % i == 0:\n",
    "        max = i\n",
    "print(max)"
   ]
  },
  {
   "cell_type": "code",
   "execution_count": 14,
   "id": "7aa4ab91",
   "metadata": {},
   "outputs": [
    {
     "name": "stdout",
     "output_type": "stream",
     "text": [
      "Неверное расширение файла\n"
     ]
    }
   ],
   "source": [
    "#Task 3\n",
    "file='Моя диссертац.gif'\n",
    "symb = \".\"\n",
    "index = file.find(symb)\n",
    "if file[index + 1:] in ['png', 'jpg', 'jpeg', 'gif', 'svg']:\n",
    "    print(file[index + 1:])\n",
    "else:\n",
    "    print(\"Неверное расширение файла\")"
   ]
  },
  {
   "cell_type": "code",
   "execution_count": 22,
   "id": "192ceb15",
   "metadata": {},
   "outputs": [
    {
     "name": "stdout",
     "output_type": "stream",
     "text": [
      "2022\n",
      "Невисокосный\n"
     ]
    }
   ],
   "source": [
    "#Task 4\n",
    "year = int(input())\n",
    "if year % 400 == 0 or (year % 4 == 0 and year % 100 != 0):\n",
    "    print(\"Високосный\")\n",
    "else:\n",
    "    print(\"Невисокосный\")"
   ]
  }
 ],
 "metadata": {
  "kernelspec": {
   "display_name": "Python 3 (ipykernel)",
   "language": "python",
   "name": "python3"
  },
  "language_info": {
   "codemirror_mode": {
    "name": "ipython",
    "version": 3
   },
   "file_extension": ".py",
   "mimetype": "text/x-python",
   "name": "python",
   "nbconvert_exporter": "python",
   "pygments_lexer": "ipython3",
   "version": "3.10.8"
  }
 },
 "nbformat": 4,
 "nbformat_minor": 5
}
