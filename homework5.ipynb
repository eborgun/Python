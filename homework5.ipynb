{
 "cells": [
  {
   "cell_type": "code",
   "execution_count": 6,
   "id": "71cc0fb3",
   "metadata": {},
   "outputs": [],
   "source": [
    "f = open('', 'r',  encoding = \"utf-8\")\n",
    "text = f.read()"
   ]
  },
  {
   "cell_type": "code",
   "execution_count": 7,
   "id": "09482aa5",
   "metadata": {},
   "outputs": [
    {
     "data": {
      "text/plain": [
       "'Иванов О. 4\\nПетров И. 3\\nДмитриев Н. 2\\nСмирнова О. 4\\nКерченских В. 5\\nКотов Д. 2\\nБирюкова Н. 1\\nДанилов П. 3\\nАранских В. 5\\nЛемонов Ю. 2\\nОлегова К. 4'"
      ]
     },
     "execution_count": 7,
     "metadata": {},
     "output_type": "execute_result"
    }
   ],
   "source": [
    "text"
   ]
  },
  {
   "cell_type": "code",
   "execution_count": 14,
   "id": "df28a0c1",
   "metadata": {},
   "outputs": [
    {
     "name": "stdout",
     "output_type": "stream",
     "text": [
      "Лекций: 2\n",
      "Практических: 3\n",
      "Лабораторных: 2\n"
     ]
    }
   ],
   "source": [
    "#Task 2\n",
    "lection_num = 0\n",
    "practic_num = 0\n",
    "labwork_num = 0\n",
    "with open('Documents/python_homework/schedule.txt', 'r', encoding='utf-8') as file:\n",
    "    for text in file:\n",
    "        if 'лек' in text:\n",
    "            lection_num += 1\n",
    "        elif 'практ' in text:\n",
    "            practic_num += 1\n",
    "        elif 'лаб' in text:\n",
    "            labwork_num += 1\n",
    "print('Лекций:', lection_num)\n",
    "print('Практических:', practic_num)\n",
    "print('Лабораторных:', labwork_num)"
   ]
  },
  {
   "cell_type": "code",
   "execution_count": 16,
   "id": "2ecd592b",
   "metadata": {},
   "outputs": [
    {
     "name": "stdout",
     "output_type": "stream",
     "text": [
      "['.DS_Store', 'bot.py', 'stud.txt', '.git', 'schedule.txt', 'homework1.py']\n"
     ]
    }
   ],
   "source": [
    "#Task 4\n",
    "import os\n",
    "dirname = \"Documents/python_homework\"\n",
    "files = os.listdir(dirname)\n",
    "\n",
    "\n",
    "print(files)"
   ]
  },
  {
   "cell_type": "code",
   "execution_count": 23,
   "id": "8aedbf5c",
   "metadata": {},
   "outputs": [
    {
     "name": "stdout",
     "output_type": "stream",
     "text": [
      "Самое частое слово: и\n",
      "Самое длинное слово: храброславленный\n"
     ]
    }
   ],
   "source": [
    "#Task 5\n",
    "with open(r'Documents/python_homework/text.txt') as f:\n",
    "   list = f.read().lower().translate(\n",
    "      str.maketrans('', '', '!\"#$%&\\'()*+,-./:;<=>?@[\\\\]^_`{|}~—')\n",
    "   ).split()\n",
    "# составляем словарь подсчёта \n",
    "res = {x: list.count(x) for x in lst}\n",
    "print(f'Самое частое слово: {max(res, key=res.get)}') # первое из наиболее часто встречающихся\n",
    "print(f'Самое длинное слово: {max(res, key=len)}') # самое длинное\n",
    "    "
   ]
  }
 ],
 "metadata": {
  "kernelspec": {
   "display_name": "Python 3 (ipykernel)",
   "language": "python",
   "name": "python3"
  },
  "language_info": {
   "codemirror_mode": {
    "name": "ipython",
    "version": 3
   },
   "file_extension": ".py",
   "mimetype": "text/x-python",
   "name": "python",
   "nbconvert_exporter": "python",
   "pygments_lexer": "ipython3",
   "version": "3.10.8"
  }
 },
 "nbformat": 4,
 "nbformat_minor": 5
}
