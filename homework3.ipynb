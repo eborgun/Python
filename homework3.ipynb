{
 "cells": [
  {
   "cell_type": "code",
   "execution_count": 8,
   "id": "0882df86",
   "metadata": {},
   "outputs": [
    {
     "name": "stdout",
     "output_type": "stream",
     "text": [
      "Введите число:25\n",
      "Введите степень корня:2\n",
      "Результат 5.0\n"
     ]
    }
   ],
   "source": [
    "#Task 1\n",
    "def root(a, n=2):\n",
    "        return (a**(1/n))\n",
    "    \n",
    "a = float(input(\"Введите число:\"))\n",
    "n = int(input(\"Введите степень корня:\"))\n",
    "print(\"Результат\", root(a,n))\n",
    "\n",
    "        "
   ]
  },
  {
   "cell_type": "code",
   "execution_count": 38,
   "id": "6ffeff5b",
   "metadata": {},
   "outputs": [
    {
     "name": "stdout",
     "output_type": "stream",
     "text": [
      "Неверное расширение файла\n"
     ]
    }
   ],
   "source": [
    "#Task 2\n",
    "def extensions(file, ext):\n",
    "    symb = \".\"\n",
    "    index = file.find(symb)\n",
    "    if file[index + 1:] in ['png', 'jpg', 'jpeg', 'gif', 'svg']:\n",
    "        print(file[index + 1:])\n",
    "    else:\n",
    "        print(\"Неверное расширение файла\")\n",
    "file='Моя диссертац.jpeg'\n",
    "ext = ['png', 'jpg', 'jpeg', 'gif', 'svg']\n",
    "extensions(file, ext)"
   ]
  },
  {
   "cell_type": "code",
   "execution_count": 23,
   "id": "15f2e9b6",
   "metadata": {},
   "outputs": [
    {
     "name": "stdout",
     "output_type": "stream",
     "text": [
      "{1: 10, 2: 20, 3: 30, 4: 40, 5: 50, 6: 60}\n"
     ]
    }
   ],
   "source": [
    "#Task 3\n",
    "dict_a = {1:10, 2:20}\n",
    "dict_b = {3:30, 4:40}\n",
    "dict_c = {5:50, 6:60}\n",
    "dict_merged = {**dict_a, **dict_b, **dict_c}\n",
    "print(dict_merged)"
   ]
  },
  {
   "cell_type": "code",
   "execution_count": 11,
   "id": "0256d32e",
   "metadata": {},
   "outputs": [
    {
     "name": "stdout",
     "output_type": "stream",
     "text": [
      "Введите число:234\n",
      "Сумма цифр: 9\n"
     ]
    }
   ],
   "source": [
    "#Task 4\n",
    "def sum_digits(n):\n",
    "    sum = 0\n",
    "    while n > 0:\n",
    "        digit = n % 10\n",
    "        sum += digit\n",
    "        n = n // 10\n",
    "    return sum\n",
    "n = int(input(\"Введите число:\"))\n",
    "print(\"Сумма цифр:\", sum_digits(n))\n"
   ]
  },
  {
   "cell_type": "code",
   "execution_count": 19,
   "id": "efe401f6",
   "metadata": {},
   "outputs": [
    {
     "name": "stdout",
     "output_type": "stream",
     "text": [
      "1 22 2 2 22 3\n",
      "Есть одинаковые\n"
     ]
    }
   ],
   "source": [
    "#Task 5\n",
    "def unique(numbers):\n",
    "    set_numbers = set(numbers)\n",
    "    if len(numbers) == len(set_numbers):\n",
    "        print(\"Все числа уникальны\")\n",
    "    else:\n",
    "        print(\"Есть одинаковые\")\n",
    "numbers = input().split()\n",
    "unique(numbers)"
   ]
  },
  {
   "cell_type": "code",
   "execution_count": 22,
   "id": "7202bf33",
   "metadata": {},
   "outputs": [
    {
     "name": "stdout",
     "output_type": "stream",
     "text": [
      "КЛЮЧ 0 -->  я\n",
      "КЛЮЧ 1 -->  не\n",
      "КЛЮЧ 2 -->  в\n",
      "КЛЮЧ 3 -->  отпуск\n"
     ]
    }
   ],
   "source": [
    "#Task 6.1\n",
    "def print_list(my_list):\n",
    "    for i in range(len(my_list)):\n",
    "        print(\"КЛЮЧ\", i, \"--> \", my_list[i])\n",
    "\n",
    "print_list([\"я\", \"не\", \"в\", \"отпуск\" ])"
   ]
  },
  {
   "cell_type": "code",
   "execution_count": 21,
   "id": "31e9c3a3",
   "metadata": {},
   "outputs": [
    {
     "name": "stdout",
     "output_type": "stream",
     "text": [
      "key1  --> 2\n",
      "key3  --> False\n",
      "Приветствие  --> Hello\n"
     ]
    }
   ],
   "source": [
    "#Task 6.2\n",
    "def print_dict(my_dict):\n",
    "    for key, value in my_dict.items():\n",
    "        print(key, \" -->\", value)\n",
    "\n",
    "print_dict({\"key1\": 2, \"key3\": False, \"Приветствие\": \"Hello\"})"
   ]
  },
  {
   "cell_type": "code",
   "execution_count": null,
   "id": "3fb58bc4",
   "metadata": {},
   "outputs": [],
   "source": [
    "#Task 6.3\n",
    "не поняла задание соре\n",
    "        "
   ]
  },
  {
   "cell_type": "code",
   "execution_count": 27,
   "id": "35245288",
   "metadata": {},
   "outputs": [
    {
     "name": "stdout",
     "output_type": "stream",
     "text": [
      "Тут\n",
      "фраза\n",
      "с\n",
      "пробелами\n",
      "и\n",
      "я\n",
      "хочу\n",
      "их\n",
      "распечатать\n",
      "по\n",
      "одному\n",
      "на\n",
      "строку\n",
      "и\n",
      "ещё\n",
      "посчитать\n",
      "слова\n",
      "Количество слов 17\n"
     ]
    }
   ],
   "source": [
    "#Task *(1)\n",
    "def word_count(phrase):\n",
    "    for word in phrase.split():\n",
    "        print(word)\n",
    "    print(\"Количество слов\", len(phrase.split()))\n",
    "word_count(\"Тут фраза с пробелами и я хочу их распечатать по одному на строку и ещё посчитать слова\")"
   ]
  },
  {
   "cell_type": "code",
   "execution_count": 36,
   "id": "524abf48",
   "metadata": {},
   "outputs": [
    {
     "name": "stdout",
     "output_type": "stream",
     "text": [
      "Тут 4.23\n",
      "фраза 7.04\n",
      "с 1.41\n",
      "пробелами 12.68\n",
      "и 1.41\n",
      "я 1.41\n",
      "хочу 5.63\n",
      "их 2.82\n",
      "распечатать 15.49\n",
      "по 2.82\n",
      "одному 8.45\n",
      "на 2.82\n",
      "строку 8.45\n",
      "и 1.41\n",
      "ещё 4.23\n",
      "посчитать 12.68\n",
      "слова 7.04\n",
      "Количество слов 17\n"
     ]
    }
   ],
   "source": [
    "#Task *(2)\n",
    "def new_func(phrase):\n",
    "    my_list = phrase.split()\n",
    "    for word in my_list:\n",
    "        print(word, round(len(word)/len(phrase.replace(\" \", \"\")) * 100, 2))\n",
    "    print(\"Количество слов\", len(phrase.split()))\n",
    "new_func(\"Тут фраза с пробелами и я хочу их распечатать по одному на строку и ещё посчитать слова\")"
   ]
  }
 ],
 "metadata": {
  "kernelspec": {
   "display_name": "Python 3 (ipykernel)",
   "language": "python",
   "name": "python3"
  },
  "language_info": {
   "codemirror_mode": {
    "name": "ipython",
    "version": 3
   },
   "file_extension": ".py",
   "mimetype": "text/x-python",
   "name": "python",
   "nbconvert_exporter": "python",
   "pygments_lexer": "ipython3",
   "version": "3.10.8"
  }
 },
 "nbformat": 4,
 "nbformat_minor": 5
}
