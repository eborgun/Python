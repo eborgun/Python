{
 "cells": [
  {
   "cell_type": "code",
   "execution_count": 2,
   "id": "67c772d3",
   "metadata": {},
   "outputs": [],
   "source": [
    "#Task_1\n",
    "\n",
    "class  Student:\n",
    "    def __init__(self, name = 'Ivan', groupNumber = '10A', age = '18'):\n",
    "        self.name = name\n",
    "        self.groupNumber = groupNumber\n",
    "        self.age = age\n",
    "        \n",
    "    def getName(self):\n",
    "        return self.name\n",
    "    \n",
    "    def getGroupNumber(self): \n",
    "        return self.groupNumber\n",
    "    \n",
    "    def getAge(self):\n",
    "        return self.age\n",
    "    \n",
    "    def SetNameAge(self, new_name, new_age):\n",
    "        self.name = new_name\n",
    "        self.age = new_age\n",
    "    \n",
    "    def setGroupNumber(self, new_groupNumber):\n",
    "        self.groupNumber = new_groupNumber\n",
    "\n",
    "Kate = Student(name ='Kate', groupNumber = '10V', age = 22)\n",
    "Andrew = Student(name = 'Andrew', groupNumber = '10A', age = 24)\n",
    "Erich = Student(name = 'Erich', groupNumber = '12S', age = 23)\n",
    "Maria = Student(name = 'Maria', groupNumber = '10A', age = 72)\n",
    "Remarque = Student(name = 'Remarque', groupNumber = '10C', age = 72)"
   ]
  },
  {
   "cell_type": "code",
   "execution_count": 4,
   "id": "c4df48d8",
   "metadata": {},
   "outputs": [],
   "source": [
    "#Task_2\n",
    "\n",
    "class Car:\n",
    "    def __init__(self, color, sort, year):\n",
    "        self.color = color\n",
    "        self.sort = sort\n",
    "        self.year = year\n",
    "    \n",
    "    def launchCar(self):\n",
    "        print('Автомобиль заведен')\n",
    "    \n",
    "    def disableCar(self):\n",
    "        print('Автомобиль заглушен')\n",
    "        \n",
    "    def setYear(self, year):\n",
    "        self.year = year\n",
    "    \n",
    "    def setSort(self, sort):\n",
    "        self.sort = sort\n",
    "        \n",
    "    def setColor(self, color):\n",
    "        self.color = color\n",
    "        "
   ]
  },
  {
   "cell_type": "code",
   "execution_count": 12,
   "id": "b63ee2f8",
   "metadata": {},
   "outputs": [
    {
     "name": "stdout",
     "output_type": "stream",
     "text": [
      "Nutrition p 3, c 56, f 9\n"
     ]
    }
   ],
   "source": [
    "#Task_3\n",
    "\n",
    "class NutritionInfo:\n",
    "    def __init__(self, proteins, carbs, fats):\n",
    "        self.proteins = proteins\n",
    "        self.carbs = carbs\n",
    "        self.fats = fats\n",
    "    \n",
    "    def __add__(self, other):\n",
    "        return NutritionInfo(self.proteins + other.proteins, self.carbs + other.carbs, self.fats + other.fats)\n",
    "    \n",
    "    def __mul__(self, amount):\n",
    "        if type(amount) == int or type(amount) == float:\n",
    "            return NutritionInfo(self.proteins * amount, self.carbs * amount, self.fats * amount)\n",
    "        else:\n",
    "            return 'Введите количество в формате числа'\n",
    "    \n",
    "    def __str__(self):\n",
    "        return f\"Nutrition p {self.proteins}, c {self.carbs}, f {self.fats}\"\n",
    "        \n",
    "    def energy(self):\n",
    "        return int(self.fats * 9 + (self.carbs + self.proteins) * 4.2)\n",
    "    \n",
    "egg = NutritionInfo(1, 2, 3)\n",
    "pastila = NutritionInfo(1, 2, 3)\n",
    "tvorog_9 = NutritionInfo(18, 3, 9)\n",
    "apple = NutritionInfo(0, 25, 0)\n",
    "\n",
    "\n",
    "print(egg * 3 + apple * 2)\n"
   ]
  },
  {
   "cell_type": "code",
   "execution_count": null,
   "id": "25ae4036",
   "metadata": {},
   "outputs": [],
   "source": []
  }
 ],
 "metadata": {
  "kernelspec": {
   "display_name": "Python 3 (ipykernel)",
   "language": "python",
   "name": "python3"
  },
  "language_info": {
   "codemirror_mode": {
    "name": "ipython",
    "version": 3
   },
   "file_extension": ".py",
   "mimetype": "text/x-python",
   "name": "python",
   "nbconvert_exporter": "python",
   "pygments_lexer": "ipython3",
   "version": "3.10.8"
  }
 },
 "nbformat": 4,
 "nbformat_minor": 5
}
