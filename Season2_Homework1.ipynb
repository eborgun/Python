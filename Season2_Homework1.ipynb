{
 "cells": [
  {
   "cell_type": "code",
   "execution_count": 21,
   "id": "d0863bee",
   "metadata": {},
   "outputs": [
    {
     "name": "stdout",
     "output_type": "stream",
     "text": [
      "Исходный список:\n",
      "1 -> 2 -> 3 -> Внезапно -> 5 -> Все\n",
      "Развернутый список:\n",
      "5 -> Внезапно -> 3 -> 2 -> 1 -> Все\n"
     ]
    }
   ],
   "source": [
    "# Task 1\n",
    "class ListNode:\n",
    "    def __init__(self, val=0, next=None):\n",
    "        self.val = val\n",
    "        self.next = next\n",
    "\n",
    "def reverse_linked_list(head: ListNode) -> ListNode:\n",
    "    if not head or not head.next:\n",
    "        return head\n",
    "    \n",
    "    prev_node = None\n",
    "    current_node = head\n",
    "    \n",
    "    while current_node:\n",
    "        next_node = current_node.next\n",
    "        current_node.next = prev_node\n",
    "        prev_node = current_node\n",
    "        current_node = next_node\n",
    "    \n",
    "    return prev_node\n",
    "\n",
    "node5 = ListNode(5)\n",
    "node4 = ListNode(\"Внезапно\", node5)\n",
    "node3 = ListNode(3, node4)\n",
    "node2 = ListNode(2, node3)\n",
    "node1 = ListNode(1, node2)\n",
    "\n",
    "# печатаем исходный список\n",
    "print(\"Исходный список:\")\n",
    "current_node = node1\n",
    "while current_node:\n",
    "    print(current_node.val, end=\" -> \")\n",
    "    current_node = current_node.next\n",
    "print(\"Все\")\n",
    "\n",
    "\n",
    "# разворачиваем список\n",
    "new_head = reverse_linked_list(node1)\n",
    "\n",
    "# печатаем развернутый список\n",
    "print(\"Развернутый список:\")\n",
    "current_node = new_head\n",
    "while current_node:\n",
    "    print(current_node.val, end=\" -> \")\n",
    "    current_node = current_node.next\n",
    "print(\"Все\")\n"
   ]
  },
  {
   "cell_type": "code",
   "execution_count": 23,
   "id": "aa4d83d8",
   "metadata": {},
   "outputs": [
    {
     "name": "stdout",
     "output_type": "stream",
     "text": [
      "Исходный список:\n",
      "3 -> 5 -> 1 -> 4 -> 2 -> Все\n",
      "Отсортированный список:\n",
      "1 -> 2 -> 3 -> 4 -> 5 -> Все\n"
     ]
    }
   ],
   "source": [
    "# Task 2\n",
    "\n",
    "class ListNode:\n",
    "    def __init__(self, val=0, next=None):\n",
    "        self.val = val\n",
    "        self.next = next\n",
    "\n",
    "def bubble_sort_linked_list(head: ListNode) -> ListNode:\n",
    "    if not head or not head.next:\n",
    "        return head\n",
    "    \n",
    "    swapped = True\n",
    "    while swapped:\n",
    "        current_node = head\n",
    "        prev_node = None\n",
    "        swapped = False\n",
    "        \n",
    "        while current_node.next:\n",
    "            next_node = current_node.next\n",
    "            if current_node.val > next_node.val:\n",
    "                # меняем местами узлы\n",
    "                current_node.next = next_node.next\n",
    "                next_node.next = current_node\n",
    "                if prev_node:\n",
    "                    prev_node.next = next_node\n",
    "                else:\n",
    "                    head = next_node\n",
    "                prev_node = next_node\n",
    "                swapped = True\n",
    "            else:\n",
    "                # переходим к следующему узлу\n",
    "                prev_node = current_node\n",
    "                current_node = next_node\n",
    "                \n",
    "    return head\n",
    "\n",
    "# создаем несортированный связный список: 3 -> 5 -> 1 -> 4 -> 2\n",
    "node5 = ListNode(2)\n",
    "node4 = ListNode(4, node5)\n",
    "node3 = ListNode(1, node4)\n",
    "node2 = ListNode(5, node3)\n",
    "node1 = ListNode(3, node2)\n",
    "\n",
    "# печатаем исходный список\n",
    "print(\"Исходный список:\")\n",
    "current_node = node1\n",
    "while current_node:\n",
    "    print(current_node.val, end=\" -> \")\n",
    "    current_node = current_node.next\n",
    "print(\"Все\")\n",
    "\n",
    "# сортируем список с помощью алгоритма сортировки пузырьком\n",
    "new_head = bubble_sort_linked_list(node1)\n",
    "\n",
    "# печатаем отсортированный список\n",
    "print(\"Отсортированный список:\")\n",
    "current_node = new_head\n",
    "while current_node:\n",
    "    print(current_node.val, end=\" -> \")\n",
    "    current_node = current_node.next\n",
    "print(\"Все\")"
   ]
  },
  {
   "cell_type": "code",
   "execution_count": 5,
   "id": "7cdcf902",
   "metadata": {},
   "outputs": [
    {
     "name": "stdout",
     "output_type": "stream",
     "text": [
      "Средний счёт по пятницам на ланч у курящих мужчин: 20.45\n"
     ]
    }
   ],
   "source": [
    "# Task 3.1\n",
    "import pandas as pd\n",
    "\n",
    "tips_data = pd.read_csv('tips.csv')\n",
    "\n",
    "# отфильтруем записи для пятниц и курящих мужчин\n",
    "friday_smokers = tips_data[(tips_data['day'] == 'Fri') & (tips_data['sex'] == 'Male') & (tips_data['smoker'] == 'Yes')]\n",
    "\n",
    "# вычислим средний полный счёт\n",
    "mean_total_bill = friday_smokers['total_bill'].mean()\n",
    "\n",
    "print(f\"Средний счёт по пятницам на ланч у курящих мужчин: {mean_total_bill:.2f}\")\n"
   ]
  },
  {
   "cell_type": "code",
   "execution_count": 3,
   "id": "bfeb050c",
   "metadata": {},
   "outputs": [
    {
     "name": "stdout",
     "output_type": "stream",
     "text": [
      "       Страна  Население   Площадь   density\n",
      "0  Kazakhstan      17.04   2724902  0.000006\n",
      "1      Russia     143.50  17125191  0.000008\n",
      "2     Belarus       9.50    207600  0.000046\n",
      "3     Ukraine      45.50    603628  0.000075\n"
     ]
    }
   ],
   "source": [
    "#Task 3.3\n",
    "import pandas as pd\n",
    "\n",
    "df = pd.DataFrame({\n",
    "    'country': ['Kazakhstan', 'Russia', 'Belarus', 'Ukraine'],\n",
    "    'population': [17.04, 143.5, 9.5, 45.5],\n",
    "    'square': [2724902, 17125191, 207600, 603628]\n",
    "})\n",
    "\n",
    "df['density'] = df['population'] / df['square']\n",
    "\n",
    "df = df.rename(columns={'country': 'Страна', 'population': 'Население', 'square': 'Площадь'})\n",
    "\n",
    "print(df)"
   ]
  },
  {
   "cell_type": "code",
   "execution_count": null,
   "id": "b5574e9d",
   "metadata": {},
   "outputs": [],
   "source": []
  }
 ],
 "metadata": {
  "kernelspec": {
   "display_name": "Python 3 (ipykernel)",
   "language": "python",
   "name": "python3"
  },
  "language_info": {
   "codemirror_mode": {
    "name": "ipython",
    "version": 3
   },
   "file_extension": ".py",
   "mimetype": "text/x-python",
   "name": "python",
   "nbconvert_exporter": "python",
   "pygments_lexer": "ipython3",
   "version": "3.10.8"
  }
 },
 "nbformat": 4,
 "nbformat_minor": 5
}
