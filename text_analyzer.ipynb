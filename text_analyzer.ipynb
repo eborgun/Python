{
 "cells": [
  {
   "cell_type": "code",
   "execution_count": null,
   "id": "cdbbda56",
   "metadata": {},
   "outputs": [],
   "source": [
    "import telebot\n",
    "TOKEN = '5787234238:AAEH--jZb0bi_kSbl9Zi3Qkl-Pb4oFt6dDg'\n",
    "\n",
    "bot = telebot.TeleBot(TOKEN)\n",
    "\n",
    "def analyzeText(input_text):\n",
    "    \n",
    "    #удаляем конечные знаки препинания\n",
    "    end_signs = ['.', '?', '!', '...']\n",
    "    for end_sign in end_signs:\n",
    "        if end_sign in input_text:\n",
    "            input_text = input_text.replace(end_sign, '|')\n",
    "    \n",
    "    amount_sentences = len(input_text.split()'|') - 1\n",
    "\n",
    "    \n",
    "    #удаляем пунктуацию\n",
    "    signs = [',', ':', ';', '\"', '/', '(', '(', '-', '|']\n",
    "    for sign in signs:\n",
    "        if sign in input_text:\n",
    "            input_text = input_text.replace(sign, '')\n",
    "    \n",
    "    input_text = input_text.lower().split()\n",
    "\n",
    "    ex_arr= ['и', 'а', 'но', 'да', 'или', 'если', 'тоже', 'либо', 'зато', 'что', 'чтобы', 'хотя', 'как', \n",
    "             'в', 'с', 'под', 'над', 'на', 'к', 'для', 'без','до', 'о', 'у', 'про', 'при', 'за', 'между',\n",
    "             'от','перед', 'через']\n",
    "    unique_words = len(set(input_text))\n",
    "    popular_words = []\n",
    "    \n",
    "    update_text = [word for word in input_text if word not in ex_arr]\n",
    "    max_word = update_text.count(max(update_text, key=update_text.count))\n",
    "    for word in update_text:\n",
    "        if update_text.count(word) == max_word:\n",
    "            popular_words.append(word)\n",
    "    return f'Количество уникальных слов: {unique_words}\\nСамые популярные слова {set(popular_words)}, частота использования {max_word} раз(а)\\nКоличество предложений {amount_sentences}'\n",
    "\n",
    "\n",
    "@bot.message_handler(commands=['start'])\n",
    "def start(message):\n",
    "    bot.send_message(message.chat.id, 'Привет! Я бот-анализатор! Введите текст для анализа:', parse_mode='html')\n",
    "\n",
    "@bot.message_handler(content_types=['text'])\n",
    "def get_message(message):\n",
    "    bot.send_message(message.chat.id, analyzeText(message.text))\n",
    "    \n",
    "    \n",
    "bot.polling(none_stop=True, interval=0)"
   ]
  }
 ],
 "metadata": {
  "kernelspec": {
   "display_name": "Python 3 (ipykernel)",
   "language": "python",
   "name": "python3"
  },
  "language_info": {
   "codemirror_mode": {
    "name": "ipython",
    "version": 3
   },
   "file_extension": ".py",
   "mimetype": "text/x-python",
   "name": "python",
   "nbconvert_exporter": "python",
   "pygments_lexer": "ipython3",
   "version": "3.10.8"
  }
 },
 "nbformat": 4,
 "nbformat_minor": 5
}
